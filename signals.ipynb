{
 "cells": [
  {
   "cell_type": "code",
   "execution_count": 3,
   "metadata": {
    "collapsed": true
   },
   "outputs": [],
   "source": [
    "import numpy as np\n",
    "import pandas as pd\n",
    "import matplotlib.pyplot as plt\n",
    "from __future__ import division\n",
    "%matplotlib inline"
   ]
  },
  {
   "cell_type": "code",
   "execution_count": 4,
   "metadata": {
    "collapsed": false
   },
   "outputs": [
    {
     "data": {
      "image/png": "[encoded data removed]",
      "text/plain": [
       "<matplotlib.figure.Figure at 0x10470a390>"
      ]
     },
     "metadata": {},
     "output_type": "display_data"
    }
   ],
   "source": [
    "class P:\n",
    "    def __init__(S, cycle, delta,d,red,vf,w,q0):\n",
    "        S.cycle,S.delta,S.d,S.vf,S.red,S.w,S.q0 = cycle,delta,d,vf,red,w,q0\n",
    "        S.kj = S.q0/(-S.w)+S.q0/S.vf\n",
    "        S.base_intervals = [[j*S.cycle,(j+S.red)*S.cycle] for j in range(0,4)]\n",
    "    def solve(S):\n",
    "        x,res,g,l = 0, [], 1000,0\n",
    "        #first go forward\n",
    "        while g>0:\n",
    "            t = S.red*S.cycle+x/S.vf\n",
    "            g = S.green_left(t,l)\n",
    "            time_stopped = max(0,g)\n",
    "            res.append({'x': x, 't':t, 'g': g, 'l':l, 'c': S.q0*time_stopped})\n",
    "            x+=S.d\n",
    "            l+=1\n",
    "        x,g,l = S.d/S.w, 1000,-1\n",
    "        while g>0:\n",
    "            t = S.red*S.cycle+x/S.w\n",
    "            g = S.green_left(t,l)\n",
    "            rec = {'x': x, 't':t, 'g': g, 'l':l, 'c': S.kj*t}\n",
    "            res.append(rec)\n",
    "            x-=S.d\n",
    "            l-=1\n",
    "            if l<-5:\n",
    "                break\n",
    "        return np.array(res)\n",
    "    # pd.DataFrame.from_records(q.solve(),index='l').sort()\n",
    "    def green_left(S,t,l):\n",
    "        r = (t+abs(l)*S.delta)%S.cycle\n",
    "        if r<(S.cycle*S.red):\n",
    "            return r-S.cycle*S.red\n",
    "        else:\n",
    "            return S.cycle-r\n",
    "    def green(S,stopping_point):\n",
    "        res = np.array(S.base_intervals)+stopping_point*S.delta\n",
    "        return res\n",
    "    def plot(S):\n",
    "        stopping_points = range(-2,6)\n",
    "        fig,ax = plt.subplots(figsize=(4,2))\n",
    "        for i,l in enumerate(stopping_points):\n",
    "            intervals = S.green(l)\n",
    "            for interval in intervals:\n",
    "                ax.plot(interval,[S.d*l,S.d*l],c=str(i/7.))\n",
    "        plt.show()\n",
    "    def find_min(S,k):\n",
    "        table = S.solve()\n",
    "        cost = 10000.\n",
    "        for e in table:\n",
    "            e['c2'] = (k*e['x'] + e['c'])/e['t']\n",
    "            if cost > e['c2']:\n",
    "                cost = e['c2']\n",
    "                res = e\n",
    "        return res\n",
    "                \n",
    "# cycle,delta,d,red,vf,w,q0\n",
    "q = P(10,1,3,.5,3,-1,3)\n",
    "q.plot()"
   ]
  },
  {
   "cell_type": "code",
   "execution_count": 5,
   "metadata": {
    "collapsed": false
   },
   "outputs": [
    {
     "data": {
      "text/plain": [
       "array([{'x': 0, 'c': 15.0, 't': 5.0, 'g': 5.0, 'l': 0},\n",
       "       {'x': 3, 'c': 9.0, 't': 6.0, 'g': 3.0, 'l': 1},\n",
       "       {'x': 6, 'c': 3.0, 't': 7.0, 'g': 1.0, 'l': 2},\n",
       "       {'x': 9, 'c': 0, 't': 8.0, 'g': -4.0, 'l': 3},\n",
       "       {'x': -3.0, 'c': 32.0, 't': 8.0, 'g': 1.0, 'l': -1},\n",
       "       {'x': -6.0, 'c': 44.0, 't': 11.0, 'g': -2.0, 'l': -2}], dtype=object)"
      ]
     },
     "execution_count": 5,
     "metadata": {},
     "output_type": "execute_result"
    }
   ],
   "source": [
    "q.solve()"
   ]
  },
  {
   "cell_type": "code",
   "execution_count": 103,
   "metadata": {
    "collapsed": false
   },
   "outputs": [
    {
     "name": "stdout",
     "output_type": "stream",
     "text": [
      "{'c': 0, 'g': -4.0, 'l': 3, 't': 8.0, 'x': 9, 'c2': 0.0} 0.5\n",
      "{'c': 0, 'g': -4.0, 'l': 3, 't': 8.0, 'x': 9, 'c2': 0.5625} 1.0\n",
      "{'c': 0, 'g': -4.0, 'l': 3, 't': 8.0, 'x': 9, 'c2': 1.125} 1.5\n",
      "{'c': 0, 'g': -4.0, 'l': 3, 't': 8.0, 'x': 9, 'c2': 1.6875} 2.0\n",
      "{'c': 3.0, 'g': 1.0, 'l': 2, 't': 7.0, 'x': 6, 'c2': 2.142857142857143} 2.5\n",
      "{'c': 3.0, 'g': 1.0, 'l': 2, 't': 7.0, 'x': 6, 'c2': 2.5714285714285716} 3.0\n",
      "{'c': 44.0, 'g': -2.0, 'l': -2, 't': 11.0, 'x': -6.0, 'c2': 2.3636363636363638} 3.5\n",
      "{'c': 44.0, 'g': -2.0, 'l': -2, 't': 11.0, 'x': -6.0, 'c2': 2.090909090909091} 4.0\n"
     ]
    }
   ],
   "source": [
    "k=0.\n",
    "while k<q.kj:\n",
    "    res = q.find_min(k)\n",
    "    k+=.5\n",
    "    print res,k"
   ]
  }
 ],
 "metadata": {
  "kernelspec": {
   "display_name": "Python 2",
   "language": "python",
   "name": "python2"
  },
  "language_info": {
   "codemirror_mode": {
    "name": "ipython",
    "version": 2
   },
   "file_extension": ".py",
   "mimetype": "text/x-python",
   "name": "python",
   "nbconvert_exporter": "python",
   "pygments_lexer": "ipython2",
   "version": "2.7.8"
  }
 },
 "nbformat": 4,
 "nbformat_minor": 0
}
